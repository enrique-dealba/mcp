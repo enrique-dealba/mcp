{
 "cells": [
  {
   "cell_type": "code",
   "execution_count": null,
   "metadata": {},
   "outputs": [],
   "source": [
    "# Cell 1: Import everything you need\n",
    "from vllm_client import (\n",
    "    VLLMClient,\n",
    "    MATH_TOOLS, \n",
    "    MATH_TOOL_FUNCTIONS, \n",
    "    CarDescription,\n",
    "    CarType\n",
    ")\n",
    "\n",
    "# Cell 2: Initialize client\n",
    "client = VLLMClient()\n",
    "\n",
    "# Cell 3: Test basic chat\n",
    "response = client.chat(\"Tell me a joke\")\n",
    "print(response.choices[0].message.content)\n",
    "\n",
    "# Cell 4: Test function calling\n",
    "result = client.chat_with_tools(\n",
    "    \"What is 123 divided by 987?\", \n",
    "    MATH_TOOLS, \n",
    "    MATH_TOOL_FUNCTIONS\n",
    ")\n",
    "print(f\"Function: {result['tool_call'].name if result['tool_call'] else 'None'}\")\n",
    "print(f\"Result: {result['result']}\")\n",
    "\n",
    "# Cell 5: Test structured output\n",
    "car_schema = CarDescription.model_json_schema()\n",
    "response = client.structured_chat(\n",
    "    \"Generate a JSON with the brand, model and car_type of the most iconic car from the 90's\",\n",
    "    car_schema\n",
    ")\n",
    "print(response.choices[0].message.content)"
   ]
  },
  {
   "cell_type": "code",
   "execution_count": null,
   "metadata": {},
   "outputs": [],
   "source": []
  }
 ],
 "metadata": {
  "kernelspec": {
   "display_name": "llm",
   "language": "python",
   "name": "python3"
  },
  "language_info": {
   "codemirror_mode": {
    "name": "ipython",
    "version": 3
   },
   "file_extension": ".py",
   "mimetype": "text/x-python",
   "name": "python",
   "nbconvert_exporter": "python",
   "pygments_lexer": "ipython3",
   "version": "3.10.13"
  }
 },
 "nbformat": 4,
 "nbformat_minor": 2
}
